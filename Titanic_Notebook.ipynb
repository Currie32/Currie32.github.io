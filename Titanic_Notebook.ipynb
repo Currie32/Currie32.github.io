{
 "cells": [
  {
   "cell_type": "markdown",
   "metadata": {},
   "source": [
    "This is my analysis of the Titanic dataset as supplied by Kaggle.com for their 'Titanic: Machine Learning from Disaster' competition. My goal was to score above 0.8, and I am pleased to say that I have accomplished this, as I have reached the score of 0.80861, which puts me in the top 9% of entries."
   ]
  },
  {
   "cell_type": "markdown",
   "metadata": {},
   "source": [
    "The sections for this analysis are: data exploration, feature engineering, machine learning, and evaluation."
   ]
  },
  {
   "cell_type": "code",
   "execution_count": null,
   "metadata": {
    "collapsed": true
   },
   "outputs": [],
   "source": [
    "import numpy as np\n",
    "import pandas as pd\n",
    "from sklearn import cross_validation\n",
    "from sklearn.linear_model import LogisticRegression\n",
    "import operator\n",
    "import re\n",
    "from sklearn.feature_selection import SelectKBest, f_classif\n",
    "import matplotlib.pyplot as plt\n",
    "from sklearn.ensemble import RandomForestClassifier\n",
    "from sklearn.ensemble import ExtraTreesClassifier\n",
    "from sklearn.pipeline import Pipeline\n",
    "from sklearn.cross_validation import KFold\n",
    "from sklearn.decomposition import PCA\n",
    "from sklearn.grid_search import GridSearchCV\n",
    "from sklearn.cross_validation import train_test_split\n",
    "from sklearn.pipeline import FeatureUnion\n",
    "from sklearn.ensemble import GradientBoostingClassifier\n",
    "from scipy.stats.stats import pearsonr\n",
    "from sklearn.tree import DecisionTreeClassifier\n",
    "from sklearn.ensemble import AdaBoostClassifier\n",
    "from sklearn.metrics import accuracy_score\n",
    "from sklearn.ensemble import VotingClassifier\n",
    "from sklearn.naive_bayes import GaussianNB\n",
    "from sklearn import neighbors\n",
    "from nameparser import HumanName "
   ]
  },
  {
   "cell_type": "markdown",
   "metadata": {},
   "source": [
    "# Section 1: Data Exploration"
   ]
  },
  {
   "cell_type": "markdown",
   "metadata": {},
   "source": [
    "Step one, load the data."
   ]
  },
  {
   "cell_type": "code",
   "execution_count": null,
   "metadata": {
    "collapsed": false
   },
   "outputs": [],
   "source": [
    "train = pd.read_csv(\"/Users/Dave/Desktop/Programming/Personal Projects/titanic_kaggle/train.csv\")\n",
    "test = pd.read_csv(\"/Users/Dave/Desktop/Programming/Personal Projects/titanic_kaggle/test.csv\")"
   ]
  },
  {
   "cell_type": "markdown",
   "metadata": {},
   "source": [
    "Let's see what kind of data we are working with"
   ]
  },
  {
   "cell_type": "code",
   "execution_count": null,
   "metadata": {
    "collapsed": false
   },
   "outputs": [],
   "source": [
    "train.describe()"
   ]
  },
  {
   "cell_type": "code",
   "execution_count": null,
   "metadata": {
    "collapsed": false
   },
   "outputs": [],
   "source": [
    "train.head()"
   ]
  },
  {
   "cell_type": "markdown",
   "metadata": {},
   "source": [
    "We can already see that we have some missing data in the Cabin variable. Let's have a look at what else we are missing."
   ]
  },
  {
   "cell_type": "code",
   "execution_count": null,
   "metadata": {
    "collapsed": false
   },
   "outputs": [],
   "source": [
    "train.isnull().sum()"
   ]
  },
  {
   "cell_type": "markdown",
   "metadata": {},
   "source": [
    "Pretty good for the most part. Age is missing about 20% of its data, hopefully we will be able to use other data to provide a fair guess as to what those ages should be. Cabin is missing most of its data, but we might be able to learn something from the information that we have. Embarked is missing just two values, that won't be a problem."
   ]
  },
  {
   "cell_type": "markdown",
   "metadata": {},
   "source": [
    "Next, let's look at the data via some graphs."
   ]
  },
  {
   "cell_type": "code",
   "execution_count": null,
   "metadata": {
    "collapsed": false
   },
   "outputs": [],
   "source": [
    "train.Survived.plot(kind='hist', bins = 2, edgecolor = 'red')\n",
    "plt.xticks((1, 0))\n",
    "plt.xlabel(('Died','Survived'))\n",
    "plt.show()\n",
    "train.Survived.value_counts()"
   ]
  },
  {
   "cell_type": "markdown",
   "metadata": {},
   "source": [
    "61.6% of people died..."
   ]
  },
  {
   "cell_type": "code",
   "execution_count": null,
   "metadata": {
    "collapsed": false,
    "scrolled": true
   },
   "outputs": [],
   "source": [
    "n_groups = 3\n",
    "index = np.arange(n_groups)\n",
    "bar_width = 0.35\n",
    "opacity = 0.7\n",
    "\n",
    "PclassSurvived = train[train.Survived==1].Pclass.value_counts().sort_index()\n",
    "PclassDied = train[train.Survived==0].Pclass.value_counts().sort_index()\n",
    "\n",
    "plt.bar(index, PclassSurvived, bar_width,\n",
    "        alpha=opacity,\n",
    "        color='b',\n",
    "        label='Survived')\n",
    "\n",
    "plt.bar(index + bar_width, PclassDied, bar_width,\n",
    "        alpha=opacity,\n",
    "        color='g',\n",
    "        label='Died')\n",
    "\n",
    "plt.xticks(index + bar_width, (1,2,3))\n",
    "plt.xlabel(\"Pclass\")\n",
    "plt.ylabel(\"Number of Passengers\")\n",
    "plt.legend(loc = 2)\n",
    "plt.show()\n",
    "\n",
    "print pd.crosstab(train.Pclass, train.Survived, margins=True)"
   ]
  },
  {
   "cell_type": "markdown",
   "metadata": {},
   "source": [
    "Looks like you don't want to be in third class. I wonder what happens when we factor in gender as well."
   ]
  },
  {
   "cell_type": "code",
   "execution_count": null,
   "metadata": {
    "collapsed": false
   },
   "outputs": [],
   "source": [
    "n_groups = 3\n",
    "index = np.arange(n_groups)\n",
    "bar_width = 0.35\n",
    "opacity = 0.7\n",
    "\n",
    "trainMale = train[train.Sex == 'male']\n",
    "trainFemale = train[train.Sex == 'female']\n",
    "\n",
    "PclassMaleSurvived = trainMale[trainMale.Survived==1].Pclass.value_counts().sort_index()\n",
    "PclassMaleDied = trainMale[trainMale.Survived==0].Pclass.value_counts().sort_index()\n",
    "\n",
    "PclassFemaleSurvived = trainFemale[trainFemale.Survived==1].Pclass.value_counts().sort_index()\n",
    "PclassFemaleDied = trainFemale[trainFemale.Survived==0].Pclass.value_counts().sort_index()\n",
    "\n",
    "fig, axes = plt.subplots(nrows=1, ncols=2, figsize=(15, 5))\n",
    "\n",
    "\n",
    "PclassM1 = axes[0].bar(index, PclassMaleSurvived, bar_width,\n",
    "                 alpha=opacity,\n",
    "                 color='darkblue',\n",
    "                 label='Male Survived')\n",
    "\n",
    "PclassM0 = axes[0].bar(index + bar_width, PclassMaleDied, bar_width,\n",
    "                 alpha=opacity,\n",
    "                 color='lightblue',\n",
    "                 label='Male Died')\n",
    "\n",
    "PclassF1 = axes[1].bar(index, PclassFemaleSurvived, bar_width,\n",
    "                 alpha=opacity,\n",
    "                 color='darkgreen',\n",
    "                 label='Female Survived')\n",
    "\n",
    "PclassF0 = axes[1].bar(index + bar_width, PclassFemaleDied, bar_width,\n",
    "                 alpha=opacity,\n",
    "                 color='lightgreen',\n",
    "                 label='Female Died')\n",
    "\n",
    "for ax in axes:\n",
    "    ax.legend(loc = 9)\n",
    "    ax.set_xlabel('Pclass')\n",
    "    ax.set_ylabel('Number of People')\n",
    "    \n",
    "plt.setp(axes, \n",
    "         xticks = index + bar_width,\n",
    "         xticklabels=['1', '2', '3'],\n",
    "        )\n",
    "plt.show()\n",
    "\n",
    "print \"Male Values:\"\n",
    "print pd.crosstab(trainMale.Pclass, trainMale.Survived, margins = True)\n",
    "print \"\"\n",
    "print \"Female Values:\"\n",
    "print pd.crosstab(trainFemale.Pclass, trainFemale.Survived, margins = True)"
   ]
  },
  {
   "cell_type": "markdown",
   "metadata": {},
   "source": [
    "Upper and middle class women mostly survived, not so much for the lower class.\n",
    "None of the men did particularly well, especially those in the lower class."
   ]
  },
  {
   "cell_type": "markdown",
   "metadata": {},
   "source": [
    "To get a better general sense, let's compare the survival of men and women."
   ]
  },
  {
   "cell_type": "code",
   "execution_count": null,
   "metadata": {
    "collapsed": false
   },
   "outputs": [],
   "source": [
    "n_groups = 2\n",
    "index = np.arange(n_groups)\n",
    "bar_width = 0.35\n",
    "opacity = 0.7\n",
    "\n",
    "SexSurvived = train[train.Survived==1].Sex.value_counts().sort_index(ascending = False)\n",
    "SexDied = train[train.Survived==0].Sex.value_counts().sort_index(ascending = False)\n",
    "\n",
    "Sex1 = plt.bar(index, SexSurvived, bar_width,\n",
    "                 alpha=opacity,\n",
    "                 color='b',\n",
    "                 label='Survived')\n",
    "Sex0 = plt.bar(index + bar_width, SexDied, bar_width,\n",
    "                 alpha=opacity,\n",
    "                 color='g',\n",
    "                 label='Died')\n",
    "plt.xticks(index + bar_width, ('Male', 'Female'))\n",
    "plt.xlabel(\"Sex\")\n",
    "plt.legend()\n",
    "plt.show()\n",
    "\n",
    "print \"Total number of people in each sex:\" \n",
    "print pd.crosstab(train.Sex, train.Survived, margins = True)"
   ]
  },
  {
   "cell_type": "markdown",
   "metadata": {},
   "source": [
    "As expected, women typically survived and men did not."
   ]
  },
  {
   "cell_type": "markdown",
   "metadata": {},
   "source": [
    "Let's move on to Ages, and see how things worked out there."
   ]
  },
  {
   "cell_type": "code",
   "execution_count": null,
   "metadata": {
    "collapsed": false
   },
   "outputs": [],
   "source": [
    "fig = plt.figure(figsize=(15, 6))\n",
    "alpha = 0.7\n",
    "\n",
    "AgeSurvived = train[train.Survived==1].Age.value_counts().sort_index()\n",
    "AgeDied = train[train.Survived==0].Age.value_counts().sort_index()\n",
    "\n",
    "Age1 = plt.plot(AgeSurvived,\n",
    "                 alpha=opacity,\n",
    "                 color='b',\n",
    "                 label='Survived')\n",
    "Age0 = plt.plot(AgeDied,\n",
    "                 alpha=opacity,\n",
    "                 color='g',\n",
    "                 label='Died')\n",
    "plt.xlabel(\"Age\")\n",
    "plt.ylabel(\"Number of Passengers\")\n",
    "plt.legend()\n",
    "plt.show()"
   ]
  },
  {
   "cell_type": "markdown",
   "metadata": {},
   "source": [
    "It appears that passengers near the age of 4/5 are more likely to survive, otherwise it seems that death is more common."
   ]
  },
  {
   "cell_type": "code",
   "execution_count": null,
   "metadata": {
    "collapsed": false
   },
   "outputs": [],
   "source": [
    "print \"Now let's take care of those\", train.Age.isnull().sum(), \"null values\""
   ]
  },
  {
   "cell_type": "code",
   "execution_count": null,
   "metadata": {
    "collapsed": false
   },
   "outputs": [],
   "source": [
    "print \"One idea would be to take the median age:\", train.Age.median(), \"or mean:\", train.Age.mean(), \"but I think we can get a clue from people's titles (ex Mr., Mrs.)\""
   ]
  },
  {
   "cell_type": "markdown",
   "metadata": {},
   "source": [
    "First let's see what titles we have."
   ]
  },
  {
   "cell_type": "code",
   "execution_count": null,
   "metadata": {
    "collapsed": false
   },
   "outputs": [],
   "source": [
    "titles = []\n",
    "for name in train.Name:\n",
    "    titles.append(HumanName(name).title)\n",
    "print set(titles)"
   ]
  },
  {
   "cell_type": "markdown",
   "metadata": {},
   "source": [
    "The titles look good, expect there's an empty string, perhaps that's for the less common titles, but I feel pretty good about this range since it has covered the basicis.\n",
    "Now let's make a new feature for these titles."
   ]
  },
  {
   "cell_type": "code",
   "execution_count": null,
   "metadata": {
    "collapsed": false
   },
   "outputs": [],
   "source": [
    "train.Title = train.Name.map(lambda x: HumanName(x).title)"
   ]
  },
  {
   "cell_type": "code",
   "execution_count": null,
   "metadata": {
    "collapsed": false
   },
   "outputs": [],
   "source": [
    "print train[train.Title == ''].Name\n",
    "print train[train.Title == ''].Survived"
   ]
  },
  {
   "cell_type": "markdown",
   "metadata": {},
   "source": [
    "These are the people with the 'empty' titles. Since there are only seven of them, and many of their titles are unique, I don't mind grouping them together into a 'uncommon title' group. Plus, they seem to follow the typical pattern of women survived and men died, so I do not expect any issues to arise in the machine learning section."
   ]
  },
  {
   "cell_type": "code",
   "execution_count": null,
   "metadata": {
    "collapsed": false
   },
   "outputs": [],
   "source": [
    "titleAges = {}\n",
    "for title in train.Title:\n",
    "    if title not in titleAges:\n",
    "        titleAges[title] = train[train.Title == title].Age.median()\n",
    "print titleAges"
   ]
  },
  {
   "cell_type": "markdown",
   "metadata": {},
   "source": [
    "Now we can add the median age of the respective title to the passengers who do not have an age."
   ]
  },
  {
   "cell_type": "code",
   "execution_count": null,
   "metadata": {
    "collapsed": false
   },
   "outputs": [],
   "source": [
    "for title in train.Title:\n",
    "    train.Age = train.Age.fillna(titleAges[title])"
   ]
  },
  {
   "cell_type": "markdown",
   "metadata": {},
   "source": [
    "Now let's do the same for the test dataframe, to keep things equal."
   ]
  },
  {
   "cell_type": "code",
   "execution_count": null,
   "metadata": {
    "collapsed": true
   },
   "outputs": [],
   "source": [
    "test.Title = test.Name.map(lambda x: HumanName(x).title)\n",
    "testTitleAges = {}\n",
    "for title in test.Title:\n",
    "    if title not in testTitleAges:\n",
    "        testTitleAges[title] = test[test.Title == title].Age.median()\n",
    "for title in test.Title:\n",
    "    test.Age = test.Age.fillna(testTitleAges[title])"
   ]
  },
  {
   "cell_type": "markdown",
   "metadata": {
    "collapsed": false
   },
   "source": [
    "Next, let's move on to SibSp (siblings and spouses)"
   ]
  },
  {
   "cell_type": "code",
   "execution_count": null,
   "metadata": {
    "collapsed": false
   },
   "outputs": [],
   "source": [
    "n_groups1 = 5\n",
    "index1 = np.arange(n_groups1)\n",
    "n_groups2 = 7\n",
    "index2 = np.arange(n_groups2)\n",
    "bar_width = 0.35\n",
    "opacity = 0.7\n",
    "\n",
    "SSSurvived = train[train.Survived==1].SibSp.value_counts().sort_index()\n",
    "SSDied = train[train.Survived==0].SibSp.value_counts().sort_index()\n",
    "\n",
    "SS1 = plt.bar(index1, SSSurvived, bar_width,\n",
    "                 alpha=opacity,\n",
    "                 color='b',\n",
    "                 label='Survived')\n",
    "plt.xticks(index + bar_width, (0,1,2,3,4,5,8))\n",
    "\n",
    "SS0 = plt.bar(index2 + bar_width, SSDied, bar_width,\n",
    "                 alpha=opacity,\n",
    "                 color='g',\n",
    "                 label='Died')\n",
    "\n",
    "plt.xlabel(\"SibSp\")\n",
    "plt.ylabel(\"Number of Passengers\")\n",
    "plt.legend()\n",
    "plt.show()\n",
    "print \"Number of people in each SibSp group:\"\n",
    "pd.crosstab(train.SibSp, train.Survived, margins = True)"
   ]
  },
  {
   "cell_type": "markdown",
   "metadata": {},
   "source": [
    "Things only look decent for pairs, otherwise not too brilliant."
   ]
  },
  {
   "cell_type": "markdown",
   "metadata": {
    "collapsed": false
   },
   "source": [
    "Next, to Parch (parents and children)."
   ]
  },
  {
   "cell_type": "code",
   "execution_count": null,
   "metadata": {
    "collapsed": false
   },
   "outputs": [],
   "source": [
    "n_groups1 = 5\n",
    "index1 = np.arange(n_groups1)\n",
    "n_groups2 = 7\n",
    "index2 = np.arange(n_groups2)\n",
    "bar_width = 0.35\n",
    "opacity = 0.7\n",
    "\n",
    "PCSurvived = train[train.Survived==1].Parch.value_counts().sort_index()\n",
    "PCDied = train[train.Survived==0].Parch.value_counts().sort_index()\n",
    "\n",
    "PC1 = plt.bar(index1, PCSurvived, bar_width,\n",
    "                 alpha=opacity,\n",
    "                 color='b',\n",
    "                 label='Survived')\n",
    "\n",
    "PC0 = plt.bar(index2 + bar_width, PCDied, bar_width,\n",
    "                 alpha=opacity,\n",
    "                 color='g',\n",
    "                 label='Died')\n",
    "\n",
    "plt.xlabel(\"Parch\")\n",
    "plt.legend()\n",
    "plt.xticks(index + bar_width, (0,1,2,3,4,5,6))\n",
    "plt.ylabel(\"Number of Passengers\")\n",
    "plt.show()\n",
    "print \"Number of people in each Parch group:\"\n",
    "print pd.crosstab(train.Parch, train.Survived, margins = True)"
   ]
  },
  {
   "cell_type": "markdown",
   "metadata": {
    "collapsed": true
   },
   "source": [
    "Hmm, this looks very similar to the SibSp plot/values. I'm going to combine the two, and call the new variable 'FamilyMembers.' Perhaps something will standout here. I'm particularly interested in passengers with 2 family members, as they might be the most likely to survived based on the SibSp and Parch data."
   ]
  },
  {
   "cell_type": "code",
   "execution_count": null,
   "metadata": {
    "collapsed": false
   },
   "outputs": [],
   "source": [
    "train['FamilyMembers'] = (train.SibSp + train.Parch)\n",
    "test['FamilyMembers'] = (test.SibSp + test.Parch)"
   ]
  },
  {
   "cell_type": "code",
   "execution_count": null,
   "metadata": {
    "collapsed": false
   },
   "outputs": [],
   "source": [
    "n_groups1 = 7\n",
    "index1 = np.arange(n_groups1)\n",
    "n_groups2 = 9\n",
    "index2 = np.arange(n_groups2)\n",
    "bar_width = 0.35\n",
    "opacity = 0.7\n",
    "\n",
    "FamilySurvived = train[train.Survived==1].FamilyMembers.value_counts().sort_index()\n",
    "FamilyDied = train[train.Survived==0].FamilyMembers.value_counts().sort_index()\n",
    "\n",
    "F1 = plt.bar(index1, FamilySurvived, bar_width,\n",
    "                 alpha=opacity,\n",
    "                 color='b',\n",
    "                 label='Survived')\n",
    "\n",
    "F0 = plt.bar(index2 + bar_width, FamilyDied, bar_width,\n",
    "                 alpha=opacity,\n",
    "                 color='g',\n",
    "                 label='Died')\n",
    "\n",
    "plt.xlabel(\"Number of Family Members\")\n",
    "plt.ylabel(\"Number of Passengers\")\n",
    "plt.legend()\n",
    "plt.xticks(index + bar_width, (0,1,2,3,4,5,6,7,10))\n",
    "plt.show()\n",
    "print \"Number of people in each Family Member size:\"\n",
    "print pd.crosstab(train.FamilyMembers, train.Survived, margins = True)"
   ]
  },
  {
   "cell_type": "markdown",
   "metadata": {},
   "source": [
    "Things don't look too good for solo travellers or larger families, but those with 1-3 family members do rather well. "
   ]
  },
  {
   "cell_type": "markdown",
   "metadata": {},
   "source": [
    "I'm not going to plot the ticket values, but maybe we'll learn something when looking at the values."
   ]
  },
  {
   "cell_type": "code",
   "execution_count": null,
   "metadata": {
    "collapsed": false
   },
   "outputs": [],
   "source": [
    "train.Ticket.value_counts()"
   ]
  },
  {
   "cell_type": "markdown",
   "metadata": {},
   "source": [
    "It's interesting to see that some people have the same ticket number, perhaps they are a part of the same family?"
   ]
  },
  {
   "cell_type": "code",
   "execution_count": null,
   "metadata": {
    "collapsed": false
   },
   "outputs": [],
   "source": [
    "print train[train.Ticket == 'CA. 2343'].Name, train[train.Ticket == 'CA. 2343'].Survived\n",
    "print\n",
    "print train[train.Ticket == '347082'].Name, train[train.Ticket == '347082'].Survived\n",
    "print \n",
    "print train[train.Ticket == '1601'].Name, train[train.Ticket == '1601'].Survived "
   ]
  },
  {
   "cell_type": "markdown",
   "metadata": {},
   "source": [
    "After looking at the 3 most common ticket numbers, we can see that sometimes, but not always, a family shares the same ticket number. In the feature engineering section, I think it will be worthwhile to add a feature for 'shared tickets.' I wonder if there are going to be some similarities in the fare prices."
   ]
  },
  {
   "cell_type": "code",
   "execution_count": null,
   "metadata": {
    "collapsed": false
   },
   "outputs": [],
   "source": [
    "print train.Fare.describe()\n",
    "print\n",
    "print train.Fare.value_counts().sort_index(ascending = False)"
   ]
  },
  {
   "cell_type": "markdown",
   "metadata": {},
   "source": [
    "Some of those fare values are pretty high, mainly 512, which is nearly double the next highest value. There are 15 people who didn't pay anything. Let's look into those two things."
   ]
  },
  {
   "cell_type": "code",
   "execution_count": null,
   "metadata": {
    "collapsed": false
   },
   "outputs": [],
   "source": [
    "print train[train.Fare == 512.3292].Name\n",
    "print\n",
    "print train[train.Fare == 0].Name"
   ]
  },
  {
   "cell_type": "markdown",
   "metadata": {},
   "source": [
    "I haven't learned anything conclusive yet, let's see if the last names match up with anyone.\n",
    "As for the people who paid 512 for a ticket, I'm just going to leave them alone, I suppose they just had the best rooms on the boat."
   ]
  },
  {
   "cell_type": "code",
   "execution_count": null,
   "metadata": {
    "collapsed": false
   },
   "outputs": [],
   "source": [
    "FareNames = []\n",
    "for name in train[train.Fare == 512.3292].Name:\n",
    "    FareNames.append(name)\n",
    "for name in train[train.Fare == 0].Name:\n",
    "    FareNames.append(name)\n",
    "\n",
    "for FareName in FareNames:\n",
    "    for name in train.Name:\n",
    "        if HumanName(FareName).last == HumanName(name).last:\n",
    "            print FareName, \" - \", name"
   ]
  },
  {
   "cell_type": "markdown",
   "metadata": {},
   "source": [
    "Let's see what the fares were for the Johnson and Andrews families, maybe they weren't shared accordingly, or Alfred and William's fares were just left out."
   ]
  },
  {
   "cell_type": "code",
   "execution_count": null,
   "metadata": {
    "collapsed": false
   },
   "outputs": [],
   "source": [
    "for name in train.Name:\n",
    "    if 'Johnson' in name or 'Andrews' in name:\n",
    "        print name, train[train.Name == name].Fare"
   ]
  },
  {
   "cell_type": "markdown",
   "metadata": {},
   "source": [
    "There are some values here that we can match for the Johnsons and Andrews, but I want to see what their family sizes are, just to make sure that they are a member of these families."
   ]
  },
  {
   "cell_type": "code",
   "execution_count": null,
   "metadata": {
    "collapsed": false
   },
   "outputs": [],
   "source": [
    "print train[train.Name == 'Johnson, Mr. William Cahoone Jr'].FamilyMembers\n",
    "print\n",
    "print train[train.Name == 'Johnson, Mr. Alfred'].FamilyMembers\n",
    "print \n",
    "print train[train.Name == 'Andrews, Mr. Thomas Jr'].FamilyMembers"
   ]
  },
  {
   "cell_type": "markdown",
   "metadata": {},
   "source": [
    "That's somewhat surprising. It looks as though none of these men are members of those families. Since there aren't many people with a fare value of 0, I'm going to assign their new values to the median."
   ]
  },
  {
   "cell_type": "code",
   "execution_count": null,
   "metadata": {
    "collapsed": false
   },
   "outputs": [],
   "source": [
    "train.loc[train['Fare'] == 0, 'Fare'] = train.Fare.median()"
   ]
  },
  {
   "cell_type": "markdown",
   "metadata": {},
   "source": [
    "Next on the list is Cabins. Unfortunately, we are missing most of the information about cabins, but let's take another look at what we have."
   ]
  },
  {
   "cell_type": "code",
   "execution_count": null,
   "metadata": {
    "collapsed": false
   },
   "outputs": [],
   "source": [
    "train.Cabin.value_counts()"
   ]
  },
  {
   "cell_type": "markdown",
   "metadata": {},
   "source": [
    "I'm going to hold on manipulating this data until the feature engineering stage, but I think something can be gained by sorting cabins based on their letter (which should represent the floor of the titanic they are on; higher floor = more wealthy = closer to life boats = more likely to survive)."
   ]
  },
  {
   "cell_type": "markdown",
   "metadata": {},
   "source": [
    "Lastly, Embarked. Let's see what we have here."
   ]
  },
  {
   "cell_type": "code",
   "execution_count": null,
   "metadata": {
    "collapsed": false
   },
   "outputs": [],
   "source": [
    "print pd.crosstab(train.Embarked, train.Survived, margins=True)"
   ]
  },
  {
   "cell_type": "markdown",
   "metadata": {},
   "source": [
    "It seems that the French were more likely to survive (C = Cherbourg, France). I wonder how the demographics of the French compared to the English speakers."
   ]
  },
  {
   "cell_type": "code",
   "execution_count": null,
   "metadata": {
    "collapsed": false
   },
   "outputs": [],
   "source": [
    "print pd.crosstab(train.Embarked, train.Sex, margins=True)\n",
    "print\n",
    "print \"Males and females from Cherbourg who survived:\"\n",
    "print train[(train.Embarked == 'C') & (train.Survived == 1)].Sex.value_counts()\n",
    "print \n",
    "print pd.crosstab(train.Embarked, train.Pclass, margins=True)\n",
    "print\n",
    "print pd.crosstab(train.Embarked, train.Family, margins=True)"
   ]
  },
  {
   "cell_type": "markdown",
   "metadata": {},
   "source": [
    "The only real outlier that I see from Cherbourg's data is that a higher percentage of them are from the upper class; more than half of them. I suppose this helps to explain why such a high percentage of them survived the trip."
   ]
  },
  {
   "cell_type": "markdown",
   "metadata": {},
   "source": [
    "Let's take care of those two missing values."
   ]
  },
  {
   "cell_type": "code",
   "execution_count": null,
   "metadata": {
    "collapsed": false
   },
   "outputs": [],
   "source": [
    "train[train.Embarked.isnull()]"
   ]
  },
  {
   "cell_type": "markdown",
   "metadata": {},
   "source": [
    "Since they are two first class women, I'm sure that any algorithm would classify them as survivors, so I'm just going to assign their Embarked values to the most common location, Southhampton."
   ]
  },
  {
   "cell_type": "code",
   "execution_count": null,
   "metadata": {
    "collapsed": false
   },
   "outputs": [],
   "source": [
    "train['Embarked'] = train['Embarked'].fillna('Empty')\n",
    "train.loc[train['Embarked'] == 'Empty', 'Embarked'] = 'S'"
   ]
  },
  {
   "cell_type": "markdown",
   "metadata": {},
   "source": [
    "# Section 2: Feature Engineering"
   ]
  },
  {
   "cell_type": "markdown",
   "metadata": {},
   "source": [
    "To simplify things, I'm going to use the variable 'df' to represent my dataframes, then apply this function to my train and test dataset."
   ]
  },
  {
   "cell_type": "code",
   "execution_count": null,
   "metadata": {
    "collapsed": false
   },
   "outputs": [],
   "source": [
    "def set_features(df):\n",
    "\n",
    "    #need to give males and females numeric values \n",
    "    df.loc[df[\"Sex\"] == \"male\", \"Sex\"] = 0\n",
    "    df.loc[df[\"Sex\"] == \"female\", \"Sex\"] = 1\n",
    "\n",
    "    #need to give Embarked values, numeric values.\n",
    "    #Set NAs to S as it is the most common port of departure.\n",
    "    df['Embarked'] = df['Embarked'].fillna('S')\n",
    "    df.loc[df['Embarked'] == 'S', 'Embarked'] = 0\n",
    "    df.loc[df['Embarked'] == 'C', 'Embarked'] = 1\n",
    "    df.loc[df['Embarked'] == 'Q', 'Embarked'] = 2\n",
    "\n",
    "    #Set fare values of 0 and NaN to the median value of fare.\n",
    "    df.loc[df['Fare'] == 0, 'Fare'] = df['Fare'].median()\n",
    "    for value in df['Fare']:\n",
    "        if pd.isnull(value):\n",
    "            df['Fare'] = df['Fare'].fillna(df['Fare'].median())\n",
    "\n",
    "    #If someone has a sibling or spouse onboard, SibSp needs to be 1 or greater.\n",
    "    df['Has_SibSp'] = df['SibSp'].map(lambda x: 1 if x >= 1 else 0)\n",
    "\n",
    "    #To be a parent, you need a spouse, have at least 1 child, and be older than 18.\n",
    "    #SibSp is >= 1 because you could be an adult with a sibling on board.\n",
    "    df['Parent'] = (df['SibSp'] >= 1) & (df['Parch'] > 0) & (df['Age'] >= 18)\n",
    "\n",
    "    #Single Parent can't have Spouse (duh) or siblings, minimum 1 kid, and 18 or older.\n",
    "    df['Single_Parent'] = (df['SibSp'] == 0) & (df['Parch'] > 0) & (df['Age'] >= 18)\n",
    "\n",
    "    #To be a mother, you need to be a parent and female. Fathers = Parent & Male\n",
    "    df['Mother'] = (df['Parent'] == 1) & (df['Sex'] == 1)\n",
    "    df['Father'] = (df['Parent'] == 1) & (df['Sex'] == 0)\n",
    "    df['Single_Mother'] = (df['Single_Parent'] == 1) & (df['Sex'] == 1)\n",
    "    df['Single_Father'] = (df['Single_Parent'] == 1) & (df['Sex'] == 0)\n",
    "\n",
    "    #Child has at least 1 parent and is 17 or younger\n",
    "    df['Child'] = (df['Parch'] >= 1) & (df['Age'] <= 17)\n",
    "\n",
    "    #To be a daughter, you need to be a girl, and a child.\n",
    "    #To be a son, likewise, but a boy.\n",
    "    df['Daughter'] = (df['Sex'] == 1) & (df['Child'] == 1)\n",
    "    df['Son'] = (df['Sex'] == 0) & (df['Child'] == 1)\n",
    "\n",
    "    #Only child has no siblings, and is a child\n",
    "    df['Only_Child'] = (df['Child'] == 1) & (df['SibSp'] == 0)\n",
    "\n",
    "    #Orphan if you have no parents and are 17 or younger\n",
    "    df['Orphan'] = (df['Age'] <= 17) & (df['Parch'] == 0)\n",
    "\n",
    "    #To have 'One Parent', you need 1 parent and be 17 or younger\n",
    "    df['One_Parent'] = (df['Parch'] == 1) & (df['Age'] <= 17)\n",
    "\n",
    "    #Various life stages\n",
    "    df['Infant'] = df['Age'] <= 2\n",
    "    df['Kid'] = (df['Age'] > 3) & (df['Age'] <= 12)\n",
    "    df['Teenager'] = (df['Age'] > 13) & (df['Age'] <= 17)\n",
    "    df['Adult'] = df['Age'] >= 18\n",
    "\n",
    "    #To be single, must be 18 or older, no parents/children, no siblings/spouses.\n",
    "    df['Single_Man'] = (df['Sex'] == 0) & (df['Age'] >= 18) & (df['SibSp'] == 0) & (df['Parch'] == 0)\n",
    "    df['Single_Woman'] = (df['Sex'] == 1) & (df['Age'] >= 18) & (df['SibSp'] == 0) & (df['Parch'] == 0)\n",
    "\n",
    "    #Married without kids or parents, need to be at least 18, and have at least 1 sibling or spouse.\n",
    "    df['Married_no_Kids_no_Parents'] = (df['SibSp'] >= 1) & (df['Parch'] == 0) & (df['Age'] >= 18)\n",
    "\n",
    "    #NameLength is number of characters in someone's name\n",
    "    df['NameLength'] = df['Name'].map(lambda x: len(x))\n",
    "    #print df['NameLength'].describe()\n",
    "    #Long names > 37, medium names 36-18, short names 0-17. Used describe to learn mean and standard deviation\n",
    "    df['NameLengthGroup'] = df['NameLength'].map(lambda x: 3 if x > 37 else (2 if x > 18 else 1)) \n",
    "    df['FemaleLongName'] = (df['Sex'] == 1) & (df['NameLengthGroup'] == 3)\n",
    "    df['FemaleMediumName'] = (df['Sex'] == 1) & (df['NameLengthGroup'] == 2)\n",
    "    df['FemaleShortName'] = (df['Sex'] == 1) & (df['NameLengthGroup'] == 1)\n",
    "    df['MaleLongName'] = (df['Sex'] == 0) & (df['NameLengthGroup'] == 3)\n",
    "    df['MaleMediumName'] = (df['Sex'] == 0) & (df['NameLengthGroup'] == 2)\n",
    "    df['MaleShortName'] = (df['Sex'] == 0) & (df['NameLengthGroup'] == 1)\n",
    "    \n",
    "    #Sort fares into three even categories.\n",
    "    #print df['Fare'].describe()\n",
    "    df['HighFare'] = df['Fare'] >= 31\n",
    "    df['MediumFare'] = (df['Fare'] < 31) & (df['Fare'] > 8)\n",
    "    df['LowFare'] = df['Fare'] <= 8\n",
    "\n",
    "    #Combined class and gender to better organize people.\n",
    "    df['RichWoman'] = (df['Pclass'] == 1) & (df['Sex'] == 1) & (df['Age'] >= 18)\n",
    "    df['MiddleClassWoman'] = (df['Pclass'] == 2) & (df['Sex'] == 1) & (df['Age'] >= 18)\n",
    "    df['PoorWoman'] = (df['Pclass'] == 3) & (df['Sex'] == 1) & (df['Age'] >= 18)\n",
    "    df['RichMan'] = (df['Pclass'] == 1) & (df['Sex'] == 0) & (df['Age'] >= 18)\n",
    "    df['MiddleClassMan'] = (df['Pclass'] == 2) & (df['Sex'] == 0) & (df['Age'] >= 18)\n",
    "    df['PoorMan'] = (df['Pclass'] == 3) & (df['Sex'] == 0) & (df['Age'] >= 18)\n",
    "    df['RichChild'] = (df['Pclass'] == 1) & (df['Age'] <= 17)\n",
    "    df['MiddleClassChild'] = (df['Pclass'] == 2) & (df['Age'] <= 17)\n",
    "    df['PoorChild'] = (df['Pclass'] == 3) & (df['Age'] <= 17)\n",
    "    df['RichGirl'] = (df['RichChild'] == 1) & (df['Sex'] == 1)\n",
    "    df['MiddleClassGirl'] = (df['MiddleClassChild'] == 1) & (df['Sex'] == 1)\n",
    "    df['PoorGirl'] = (df['PoorChild'] == 1) & (df['Sex'] == 1)\n",
    "    df['RichBoy'] = (df['RichChild'] == 1) & (df['Sex'] == 0)\n",
    "    df['MiddleClassBoy'] = (df['MiddleClassChild'] == 1) & (df['Sex'] == 0)\n",
    "    df['PoorBoy'] = (df['PoorChild'] == 1) & (df['Sex'] == 0)\n",
    "\n",
    "    #Family size is the sum of siblings, spouses, parents, and children.\n",
    "    df['FamilySize'] = df['SibSp'] + df['Parch']\n",
    "    df['SmallFamily'] = df['FamilySize'] <= 3\n",
    "    df['MediumFamily'] = (df['FamilySize'] >= 4) & (df['FamilySize'] <= 6)\n",
    "    df['LargeFamily'] = df['FamilySize'] >= 7\n",
    "\n",
    "    #Based on correlation and plot analysis, these features were combined; hoping for useful learning.\n",
    "    df['Pclass*Age'] = df['Pclass'] * df['Age']\n",
    "    df['Fare/Pclass'] = df['Fare'] / df['Pclass']\n",
    "    df['FamilySize*Pclass'] = df['FamilySize'] * df['Pclass']\n",
    "\n",
    "    #a helper function to provide ids to the variations of a variable.\n",
    "    #the ids for each variation of the variable are stored in the variable_id_mapping (a dictionary)\n",
    "    def id_mapping(variable_id, variable_id_mapping):\n",
    "        if variable_id not in variable_id_mapping:\n",
    "            if len(variable_id_mapping) == 0:\n",
    "                current_id = 1\n",
    "            else:\n",
    "                current_id = (max(variable_id_mapping.items(), key=operator.itemgetter(1))[1] + 1)\n",
    "            variable_id_mapping[variable_id] = current_id\n",
    "        return variable_id_mapping[variable_id]\n",
    "\n",
    "    #create a mapping of the title_ids\n",
    "    title_id_mapping = {}\n",
    "    def get_title_id(row):\n",
    "        title = row[\"Name\"].split(' ')[1]\n",
    "        title_id = \"{0}\".format(title)\n",
    "        return id_mapping(title_id, title_id_mapping)\n",
    "    df[\"TitleID\"] = df.apply(get_title_id, axis = 1)\n",
    "\n",
    "    #cabin_level_ids relate to the first letter in the cabin column.\n",
    "    cabin_level_id_mapping = {}\n",
    "    def get_cabin_level(row):\n",
    "        cabin_level = str(row['Cabin'])[0]\n",
    "        cabin_level_id = \"{0}\".format(cabin_level)\n",
    "        return id_mapping(cabin_level_id, cabin_level_id_mapping)\n",
    "    df[\"CabinLevelID\"] = df.apply(get_cabin_level, axis = 1)\n",
    "    \n",
    "    #If the cabin number is konwn, Known_cabin = 1, else 0\n",
    "    df['Known_Cabin'] = df['Cabin'].map(lambda x: 1 if pd.notnull(x) else 0)\n",
    "    \n",
    "    #Find the length of the ticket, perhaps longer tickets are for include more amenities, \n",
    "    #therefore associated with wealth.\n",
    "    df['TicketLength'] = df['Ticket'].map(lambda x: len(df['Ticket']))\n",
    "    \n",
    "    #ticket_id realtes to the first character in the ticket.\n",
    "    ticket_id_mapping = {}\n",
    "    def get_ticket_id(row):\n",
    "        ticket = str(row['Ticket'])[0]\n",
    "        ticket_id = \"{0}\".format(ticket)\n",
    "        return id_mapping(ticket_id, ticket_id_mapping)\n",
    "    df['TicketID'] = df.apply(get_ticket_id, axis = 1)\n",
    "    \n",
    "    #If there is no value for cabin, set it to 0.\n",
    "    for value in df['Cabin']:\n",
    "        if pd.isnull(value):\n",
    "            value = 0\n",
    "\n",
    "    #dict to give each family a unique id\n",
    "    family_id_mapping = {}\n",
    "    def get_family_id(row):\n",
    "        last_name = row['Name'].split(',')[0]\n",
    "        family_id = \"{0}{1}\".format(last_name, row[\"FamilySize\"])\n",
    "        return id_mapping(family_id, family_id_mapping)\n",
    "    df[\"FamilyID\"]  = df.apply(get_family_id, axis = 1)\n"
   ]
  },
  {
   "cell_type": "markdown",
   "metadata": {},
   "source": [
    "# Section 3: Machine Learning"
   ]
  },
  {
   "cell_type": "markdown",
   "metadata": {},
   "source": [
    "Let's set everything equal for out train and test datasets by applying the set_features function to them."
   ]
  },
  {
   "cell_type": "code",
   "execution_count": null,
   "metadata": {
    "collapsed": false
   },
   "outputs": [],
   "source": [
    "set_features(train)\n",
    "set_features(test)"
   ]
  },
  {
   "cell_type": "code",
   "execution_count": null,
   "metadata": {
    "collapsed": false
   },
   "outputs": [],
   "source": [
    "#A list of all of our numeric features, which will be used for machine learning.\n",
    "Predictors = ['Pclass','Sex','Age','SibSp','Parch','Fare','Embarked',\n",
    "              'Has_SibSp', 'Parent','Mother','Father','Daughter','Son',\n",
    "              'Married_no_Kids_no_Parents','TitleID','FamilySize','FamilyID',\n",
    "              'Known_Cabin','Single_Parent','Single_Mother','Single_Father',\n",
    "              'Child','Only_Child','One_Parent','Single_Man','Single_Woman',\n",
    "              'RichWoman','MiddleClassWoman','PoorWoman','RichMan','MiddleClassMan',\n",
    "              'PoorMan','RichChild','MiddleClassChild','PoorChild','Orphan',\n",
    "              'Infant','Teenager','Adult','Pclass*Age','SmallFamily',\n",
    "              'MediumFamily','LargeFamily','CabinLevelID','Fare/Pclass',\n",
    "              'RichGirl','MiddleClassGirl','PoorGirl','RichBoy','MiddleClassBoy',\n",
    "              'PoorBoy','NameLength','NameLengthGroup','FemaleLongName','FemaleMediumName',\n",
    "              'FemaleShortName','MaleLongName','MaleMediumName','MaleShortName',\n",
    "              'FamilySize*Pclass','LowFare','MediumFare','HighFare','TicketLength','TicketID']"
   ]
  },
  {
   "cell_type": "markdown",
   "metadata": {},
   "source": [
    "Let's spilt the data so that we have a training and testing set."
   ]
  },
  {
   "cell_type": "code",
   "execution_count": null,
   "metadata": {
    "collapsed": false
   },
   "outputs": [],
   "source": [
    "trainData, testData = train_test_split(train, test_size = 0.3)"
   ]
  },
  {
   "cell_type": "code",
   "execution_count": null,
   "metadata": {
    "collapsed": false
   },
   "outputs": [],
   "source": [
    "cv = 10"
   ]
  },
  {
   "cell_type": "markdown",
   "metadata": {},
   "source": [
    "To do our machine learning, we are going to use six different algorithms. These algorithms will learn via their own pipelines, then the voting classifier will combine their results with different weights, based on their accuracies.\n",
    "The six algorithms are: RandomForestClassifier, GaussianNB, GradientBoostingClassifier, AdaBoostClassifier, LogisticRegression, and KNeighborsClassifier."
   ]
  },
  {
   "cell_type": "code",
   "execution_count": null,
   "metadata": {
    "collapsed": false
   },
   "outputs": [],
   "source": [
    "randomForest_pipe = Pipeline(steps = [('feature_union', FeatureUnion([('pca', PCA()),\n",
    "                                                         ('select_KBest', SelectKBest())\n",
    "                                                         ])),\n",
    "                                      ('randomForest', RandomForestClassifier())\n",
    "                                      ])\n",
    "\n",
    "randomForest_parameters = dict(feature_union__pca__n_components = [12],\n",
    "                               feature_union__pca__whiten = [False],\n",
    "                               feature_union__select_KBest__k = [35],\n",
    "                               randomForest__n_estimators = [300],\n",
    "                               #randomForest__min_samples_split = [6],\n",
    "                               #randomForest__min_samples_leaf = [1],\n",
    "                               randomForest__max_leaf_nodes = [10],\n",
    "                               #randomForest__warm_start = [False],\n",
    "                               #randomForest__oob_score = [True],\n",
    "                               #randomForest__bootstrap = [True],\n",
    "                               )\n",
    "\n",
    "randomForest_grid_search = GridSearchCV(randomForest_pipe,\n",
    "                                        randomForest_parameters,\n",
    "                                        cv = cv, \n",
    "                                        scoring = 'accuracy')\n",
    "randomForest_grid_search.fit(trainData[Predictors], trainData['Survived'])"
   ]
  },
  {
   "cell_type": "code",
   "execution_count": null,
   "metadata": {
    "collapsed": false
   },
   "outputs": [],
   "source": [
    "gau_pipe = Pipeline(steps = [('feature_union', FeatureUnion([('pca', PCA()),\n",
    "                                                             ('select_KBest', SelectKBest())\n",
    "                                                            ])),\n",
    "                             ('gau', GaussianNB())\n",
    "                            ])\n",
    "\n",
    "gau_parameters = dict(feature_union__pca__n_components = [12],\n",
    "                      feature_union__pca__whiten = [True],\n",
    "                      feature_union__select_KBest__k = [45],\n",
    "                      )\n",
    "\n",
    "gau_grid_search = GridSearchCV(gau_pipe,\n",
    "                               gau_parameters,\n",
    "                               cv = cv, \n",
    "                               scoring = 'accuracy')\n",
    "gau_grid_search.fit(trainData[Predictors], trainData['Survived'])"
   ]
  },
  {
   "cell_type": "code",
   "execution_count": null,
   "metadata": {
    "collapsed": false
   },
   "outputs": [],
   "source": [
    "gBoost_pipe = Pipeline(steps = [('feature_union', FeatureUnion([('pca', PCA()),\n",
    "                                                                ('select_KBest', SelectKBest())\n",
    "                                                               ])),\n",
    "                                ('gBoost', GradientBoostingClassifier())\n",
    "                                ])\n",
    "\n",
    "gBoost_parameters = dict(feature_union__pca__n_components = [24],\n",
    "                         feature_union__pca__whiten = [False],\n",
    "                         feature_union__select_KBest__k = [32],\n",
    "                         gBoost__min_samples_split = [6],\n",
    "                         gBoost__min_samples_leaf = [1],\n",
    "                         gBoost__n_estimators = [50],\n",
    "                         gBoost__max_leaf_nodes = [5],\n",
    "                         gBoost__learning_rate = [0.1],\n",
    "                         gBoost__subsample = [0.65],\n",
    "                         gBoost__presort = [True]\n",
    "                         )\n",
    "\n",
    "gBoost_grid_search = GridSearchCV(gBoost_pipe,\n",
    "                                  gBoost_parameters,\n",
    "                                  cv = cv, \n",
    "                                  scoring = 'accuracy')\n",
    "gBoost_grid_search.fit(trainData[Predictors], trainData['Survived'])"
   ]
  },
  {
   "cell_type": "code",
   "execution_count": null,
   "metadata": {
    "collapsed": false
   },
   "outputs": [],
   "source": [
    "ada_pipe = Pipeline(steps = [('feature_union', FeatureUnion([('pca', PCA()),\n",
    "                                                             ('select_KBest', SelectKBest())\n",
    "                                                            ])),\n",
    "                            ('ada', AdaBoostClassifier())\n",
    "                            ])\n",
    "\n",
    "ada_parameters = dict(feature_union__pca__n_components = [28],\n",
    "                      feature_union__pca__whiten = [True],\n",
    "                      feature_union__select_KBest__k = [36],\n",
    "                      ada__n_estimators = [100],\n",
    "                      ada__learning_rate = [0.2],\n",
    "                      ada__base_estimator = [DecisionTreeClassifier(max_depth = 1,\n",
    "                                                                    splitter = 'random')]\n",
    "                      )\n",
    "\n",
    "ada_grid_search = GridSearchCV(ada_pipe,\n",
    "                               ada_parameters,\n",
    "                               cv = cv, \n",
    "                               scoring = 'accuracy')\n",
    "ada_grid_search.fit(trainData[Predictors], trainData['Survived'])"
   ]
  },
  {
   "cell_type": "code",
   "execution_count": null,
   "metadata": {
    "collapsed": false
   },
   "outputs": [],
   "source": [
    "lr_pipe = Pipeline(steps = [('feature_union', FeatureUnion([('pca', PCA()),\n",
    "                                                            ('select_KBest', SelectKBest())\n",
    "                                                           ])),\n",
    "                            ('lr', LogisticRegression())\n",
    "                            ])\n",
    "\n",
    "lr_parameters = dict(feature_union__pca__n_components = [25],\n",
    "                      feature_union__pca__whiten = [False],\n",
    "                      feature_union__select_KBest__k = [35],\n",
    "                      lr__fit_intercept = ['True'],\n",
    "                      lr__C = [1]\n",
    "                     )\n",
    "\n",
    "lr_grid_search = GridSearchCV(lr_pipe,\n",
    "                              lr_parameters,\n",
    "                              cv = cv, \n",
    "                              scoring = 'accuracy')\n",
    "lr_grid_search.fit(trainData[Predictors], trainData['Survived'])"
   ]
  },
  {
   "cell_type": "code",
   "execution_count": null,
   "metadata": {
    "collapsed": false
   },
   "outputs": [],
   "source": [
    "kn_pipe = Pipeline(steps = [('feature_union', FeatureUnion([('pca', PCA()),\n",
    "                                                            ('select_KBest', SelectKBest())\n",
    "                                                           ])),\n",
    "                            ('kn', neighbors.KNeighborsClassifier())\n",
    "                            ])\n",
    "\n",
    "kn_parameters = dict(feature_union__pca__n_components = [30],\n",
    "                      feature_union__pca__whiten = [True],\n",
    "                      feature_union__select_KBest__k = [45],\n",
    "                      kn__n_neighbors = [4],\n",
    "                      kn__algorithm = ['auto'],\n",
    "                      kn__leaf_size = [10],\n",
    "                      kn__weights = ['uniform'],\n",
    "                      kn__p = [1]\n",
    "                     )\n",
    "\n",
    "kn_grid_search = GridSearchCV(kn_pipe,\n",
    "                              kn_parameters,\n",
    "                              cv = cv, \n",
    "                              scoring = 'accuracy')\n",
    "kn_grid_search.fit(trainData[Predictors], trainData['Survived'])"
   ]
  },
  {
   "cell_type": "markdown",
   "metadata": {},
   "source": [
    "The randomForest, Gradient Boosting, Adaboost, and LogisticRegression algorithms typical perform about equal and the best, so that's why they are weighted the highest."
   ]
  },
  {
   "cell_type": "code",
   "execution_count": null,
   "metadata": {
    "collapsed": false
   },
   "outputs": [],
   "source": [
    "voting = VotingClassifier(estimators=[('randomForest', randomForest_grid_search.best_estimator_),\n",
    "                                      ('gau', gau_grid_search.best_estimator_),\n",
    "                                      ('gBoost', gBoost_grid_search.best_estimator_),\n",
    "                                      ('ada', ada_grid_search.best_estimator_),\n",
    "                                      ('lr', lr_grid_search.best_estimator_),\n",
    "                                      ('kn', kn_grid_search.best_estimator_)],\n",
    "                          voting='soft',\n",
    "                          weights=[0.23,0.04,0.23,0.23,0.23,0.04])\n",
    "voting.fit(trainData[Predictors], trainData['Survived'])"
   ]
  },
  {
   "cell_type": "markdown",
   "metadata": {},
   "source": [
    "# Section 4: Evaluation"
   ]
  },
  {
   "cell_type": "code",
   "execution_count": null,
   "metadata": {
    "collapsed": true
   },
   "outputs": [],
   "source": [
    "algorithms = {randomForest_grid_search: \"randomForest\", \n",
    "              gau_grid_search: \"gaussian\",\n",
    "              gBoost_grid_search: \"Gradient Boosting\",\n",
    "              ada_grid_search: \"Ada Boost\",\n",
    "              lr_grid_search: \"Linear Regression\",\n",
    "              kn_grid_search: \"KNeighbor\",\n",
    "              voting: \"voting\"}"
   ]
  },
  {
   "cell_type": "code",
   "execution_count": null,
   "metadata": {
    "collapsed": false
   },
   "outputs": [],
   "source": [
    "for k,v in algorithms.iteritems():\n",
    "    print v, \"trainData score:\", k.score(trainData[Predictors], trainData['Survived'])\n",
    "    print v, \"testData score:\", k.score(testData[Predictors], testData['Survived'])"
   ]
  },
  {
   "cell_type": "code",
   "execution_count": null,
   "metadata": {
    "collapsed": true
   },
   "outputs": [],
   "source": [
    "predictions = voting.predict(test[Predictors]).astype(int)\n",
    "submission = pd.DataFrame({'PassengerID': test['PassengerId'],\n",
    "                           'Survived': predictions\n",
    "                           })\n",
    "submission.to_csv('/Users/Dave/Desktop/Programming/Personal Projects/titanic_kaggle/Titanic_Submission3.csv', index=False)"
   ]
  },
  {
   "cell_type": "markdown",
   "metadata": {},
   "source": [
    "# Conclusion"
   ]
  },
  {
   "cell_type": "markdown",
   "metadata": {},
   "source": [
    "I hope that you enjoyed, and possibly even learned something from, my analysis. The results could be improved by using more creativity in the feature engineering section, or tuning the parameters of the algorithms better, but I am happy with what I accomplished, and feel that it would be best to move onto another competition, rather than continue this one. Thanks for reading!"
   ]
  },
  {
   "cell_type": "code",
   "execution_count": null,
   "metadata": {
    "collapsed": true
   },
   "outputs": [],
   "source": []
  }
 ],
 "metadata": {
  "celltoolbar": "Raw Cell Format",
  "kernelspec": {
   "display_name": "Python 2",
   "language": "python",
   "name": "python2"
  },
  "language_info": {
   "codemirror_mode": {
    "name": "ipython",
    "version": 2
   },
   "file_extension": ".py",
   "mimetype": "text/x-python",
   "name": "python",
   "nbconvert_exporter": "python",
   "pygments_lexer": "ipython2",
   "version": "2.7.12"
  }
 },
 "nbformat": 4,
 "nbformat_minor": 1
}
